{
 "cells": [
  {
   "cell_type": "code",
   "execution_count": 3,
   "metadata": {},
   "outputs": [
    {
     "name": "stderr",
     "output_type": "stream",
     "text": [
      "C:\\Users\\karra\\Anaconda3\\lib\\site-packages\\numba\\cuda\\decorators.py:113: UserWarning: autojit is deprecated and will be removed in a future release. Use jit instead.\n",
      "  warn('autojit is deprecated and will be removed in a future release. Use jit instead.')\n"
     ]
    },
    {
     "name": "stdout",
     "output_type": "stream",
     "text": [
      "with GPU: 1.0926461999999901\n"
     ]
    },
    {
     "data": {
      "image/png": "[encoded data removed]",
      "text/plain": [
       "<Figure size 432x288 with 1 Axes>"
      ]
     },
     "metadata": {
      "needs_background": "light"
     },
     "output_type": "display_data"
    }
   ],
   "source": [
    "from numba import jit, cuda\n",
    "import matplotlib.pyplot as plt\n",
    "import numpy as np\n",
    "import pandas as pd\n",
    "\n",
    "# to measure exec time \n",
    "from timeit import default_timer as timer\n",
    "\n",
    "def drawgraph(xs, ys):\n",
    "    plt.plot(xs, ys, linestyle='-', linewidth = 1)\n",
    "    #plt.scatter(xs, ys, 2, \"#0000FF\", linestyle='-')\n",
    "    \n",
    "# function optimized to run on gpu  \n",
    "@jit(target =\"cuda\")\n",
    "def func(xs, ts, xxs, ys, E_x, E_y, n):\n",
    "    # const\n",
    "    x = 0.1; y = 0.1;\n",
    "    dt = 0.0001\n",
    "    \n",
    "    def F1(x, y):\n",
    "        #return x * (1 - E_x * x) - x * y\n",
    "        return -x\n",
    "\n",
    "    def F2(x, y):\n",
    "        #return x * y * (1 - E_y * y) - y\n",
    "        return -100*y\n",
    "    \n",
    "    for t in range(n):\n",
    "        xs[t] = x \n",
    "        #-----------------------------------------------------\n",
    "        k1_x = F1(x, y)\n",
    "        k1_y = F2(x, y)\n",
    "        k2_x = F1(x + dt / 2 * k1_x, y + dt / 2 * k1_y)\n",
    "        k2_y = F2(x + dt / 2 * k1_x, y + dt / 2 * k1_y)\n",
    "        k3_x = F1(x + dt / 2 * k2_x, y + dt / 2 * k2_y)\n",
    "        k3_y = F2(x + dt / 2 * k2_x, y + dt / 2 * k2_y)\n",
    "        k4_x = F1(x + dt * k3_x, y + dt * k3_y)\n",
    "        k4_y = F2(x + dt * k3_x, y + dt * k3_y)\n",
    "        #-----------------------------------------------------\n",
    "        x += dt / 6 * (k1_x + 2 * k2_x + 2 * k3_x + k4_x)\n",
    "        y += dt / 6 * (k1_y + 2 * k2_y + 2 * k3_y + k4_y)\n",
    "        #-----------------------------------------------------\n",
    "        '''\n",
    "        if x > 20 or x < -10:\n",
    "            break\n",
    "        if y > 20 or y < -10:\n",
    "            break\n",
    "        '''\n",
    "        xxs[t] = x\n",
    "        ys[t] = y\n",
    "        ts[t] = t\n",
    "\n",
    "if __name__==\"__main__\":\n",
    "\n",
    "    n = 100000\n",
    "    \n",
    "    #check\n",
    "    \n",
    "    xs = np.ones(n, dtype = np.float64)\n",
    "    xxs = np.ones(n, dtype = np.float64)\n",
    "    ys = np.ones(n, dtype = np.float64)\n",
    "    ts = np.ones(n,  dtype = np.float64)\n",
    "    zs = np.zeros(n,  dtype = np.float64)\n",
    "    start = timer()\n",
    "    \n",
    "    #for e_x in range(-10, 1, 1):\n",
    "    E_x = 0.0\n",
    "    E_y = 0.0\n",
    "    func(xs, ts, xxs, ys, E_x, E_y, n)\n",
    "    drawgraph(xs, ys)\n",
    "    data = pd.DataFrame({'x': xs, 'xx': xxs, 'y': ys, 't': ts, 'z': zs})\n",
    "    data.to_csv('web/out.csv', index = False)\n",
    "    \n",
    "    print(\"with GPU:\", timer()-start)\n",
    "    plt.show()\n"
   ]
  },
  {
   "cell_type": "code",
   "execution_count": null,
   "metadata": {},
   "outputs": [],
   "source": []
  },
  {
   "cell_type": "code",
   "execution_count": null,
   "metadata": {},
   "outputs": [],
   "source": []
  }
 ],
 "metadata": {
  "kernelspec": {
   "display_name": "Python 3",
   "language": "python",
   "name": "python3"
  },
  "language_info": {
   "codemirror_mode": {
    "name": "ipython",
    "version": 3
   },
   "file_extension": ".py",
   "mimetype": "text/x-python",
   "name": "python",
   "nbconvert_exporter": "python",
   "pygments_lexer": "ipython3",
   "version": "3.7.4"
  }
 },
 "nbformat": 4,
 "nbformat_minor": 4
}
